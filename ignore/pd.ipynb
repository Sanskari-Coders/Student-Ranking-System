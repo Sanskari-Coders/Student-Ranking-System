{
 "cells": [
  {
   "cell_type": "code",
   "execution_count": 4,
   "metadata": {},
   "outputs": [
    {
     "name": "stdout",
     "output_type": "stream",
     "text": [
      "    STUDENT REGISTRATION NUMBER        STUDENT NAME DEPARTMENT  SEMESTER  \\\n",
      "15                 210614100017    GEETANJALI MEHER        BCA         6   \n",
      "14                 210614100016       ARPITA BEHERA        BCA         6   \n",
      "13                 210614100015       ANSHUMAN RATH        BCA         6   \n",
      "12                 210614100014       SHILPI KUMARI        BCA         6   \n",
      "11                 210614100013      SALONIKA PANDA        BCA         6   \n",
      "10                 210614100012    HRITIK MAHANANDA        BCA         6   \n",
      "9                  210614100011         HARESH SAHU        BCA         6   \n",
      "8                  210614100010      GANGADHAR ROUT        BCA         6   \n",
      "7                  210614100009         BIKASH RANA        BCA         6   \n",
      "6                  210614100008  BIJAYANI BIDYADHAR        BCA         6   \n",
      "\n",
      "    SGPA  CGPA  \n",
      "15  8.68  9.25  \n",
      "14  8.67  9.24  \n",
      "13  8.66  9.23  \n",
      "12  8.65  9.22  \n",
      "11  8.64  9.21  \n",
      "10  8.63  9.20  \n",
      "9   8.62  9.19  \n",
      "8   8.61  9.18  \n",
      "7   8.60  9.17  \n",
      "6   8.59  9.16  \n"
     ]
    }
   ],
   "source": [
    "import pandas as pd\n",
    "\n",
    "# Read the Excel file\n",
    "df = pd.read_excel('media\\\\ranks.xlsx')\n",
    "\n",
    "# Filter by department and semester (e.g., BCA department and 6th semester)\n",
    "department = 'BCA'\n",
    "semester = 6\n",
    "filtered_df = df[(df['DEPARTMENT'] == department) & (df['SEMESTER'] == semester)]\n",
    "\n",
    "# Sort by SGPA in descending order\n",
    "sorted_df = filtered_df.sort_values(by='SGPA', ascending=False)\n",
    "\n",
    "# Retrieve top 10 students\n",
    "top_10_students = sorted_df.head(10)\n",
    "\n",
    "print(top_10_students)\n"
   ]
  },
  {
   "cell_type": "code",
   "execution_count": 7,
   "metadata": {},
   "outputs": [
    {
     "name": "stdout",
     "output_type": "stream",
     "text": [
      "\n",
      "Descriptive Statistics for SGPA:\n",
      "Count (number of SGPA values): 16.0\n",
      "Mean (average SGPA): 8.605\n",
      "Standard Deviation (spread of SGPA values around the mean): 0.04760952285695241\n",
      "Minimum SGPA: 8.53\n",
      "25th Percentile (25% of SGPA values are below this value): 8.5675\n",
      "Median (middle value of SGPA data): 8.605\n",
      "75th Percentile (75% of SGPA values are below this value): 8.6425\n",
      "Maximum SGPA: 8.68\n",
      "\n",
      "Descriptive Statistics for CGPA:\n",
      "Count (number of CGPA values): 16.0\n",
      "Mean (average CGPA): 9.175\n",
      "Standard Deviation (spread of CGPA values around the mean): 0.04760952285695248\n",
      "Minimum CGPA: 9.1\n",
      "25th Percentile (25% of CGPA values are below this value): 9.137500000000001\n",
      "Median (middle value of CGPA data): 9.175\n",
      "75th Percentile (75% of CGPA values are below this value): 9.2125\n",
      "Maximum CGPA: 9.25\n"
     ]
    }
   ],
   "source": [
    "import pandas as pd\n",
    "\n",
    "# Read the Excel file\n",
    "df = pd.read_excel('media/ranks.xlsx')\n",
    "\n",
    "# Compute descriptive statistics for SGPA and CGPA\n",
    "sgpa_stats = df['SGPA'].describe()\n",
    "cgpa_stats = df['CGPA'].describe()\n",
    "\n",
    "# Display descriptive statistics with detailed descriptions\n",
    "print(\"\\nDescriptive Statistics for SGPA:\")\n",
    "print(\"Count (number of SGPA values):\", sgpa_stats['count'])\n",
    "print(\"Mean (average SGPA):\", sgpa_stats['mean'])\n",
    "print(\"Standard Deviation (spread of SGPA values around the mean):\", sgpa_stats['std'])\n",
    "print(\"Minimum SGPA:\", sgpa_stats['min'])\n",
    "print(\"25th Percentile (25% of SGPA values are below this value):\", sgpa_stats['25%'])\n",
    "print(\"Median (middle value of SGPA data):\", sgpa_stats['50%'])\n",
    "print(\"75th Percentile (75% of SGPA values are below this value):\", sgpa_stats['75%'])\n",
    "print(\"Maximum SGPA:\", sgpa_stats['max'])\n",
    "\n",
    "print(\"\\nDescriptive Statistics for CGPA:\")\n",
    "print(\"Count (number of CGPA values):\", cgpa_stats['count'])\n",
    "print(\"Mean (average CGPA):\", cgpa_stats['mean'])\n",
    "print(\"Standard Deviation (spread of CGPA values around the mean):\", cgpa_stats['std'])\n",
    "print(\"Minimum CGPA:\", cgpa_stats['min'])\n",
    "print(\"25th Percentile (25% of CGPA values are below this value):\", cgpa_stats['25%'])\n",
    "print(\"Median (middle value of CGPA data):\", cgpa_stats['50%'])\n",
    "print(\"75th Percentile (75% of CGPA values are below this value):\", cgpa_stats['75%'])\n",
    "print(\"Maximum CGPA:\", cgpa_stats['max'])\n"
   ]
  },
  {
   "cell_type": "code",
   "execution_count": 1,
   "metadata": {},
   "outputs": [
    {
     "name": "stdout",
     "output_type": "stream",
     "text": [
      "Comparative Analysis by Department:\n",
      "  DEPARTMENT   SGPA   CGPA\n",
      "0        BCA  8.605  9.175\n",
      "\n",
      "Comparative Analysis by Semester:\n",
      "   SEMESTER   SGPA   CGPA\n",
      "0         6  8.605  9.175\n"
     ]
    }
   ],
   "source": [
    "import pandas as pd\n",
    "\n",
    "# Read the Excel file\n",
    "df = pd.read_excel('media\\\\ranks.xlsx')\n",
    "\n",
    "# Comparative analysis by department\n",
    "department_comparison = df.groupby('DEPARTMENT').agg({'SGPA': 'mean', 'CGPA': 'mean'}).reset_index()\n",
    "print(\"Comparative Analysis by Department:\")\n",
    "print(department_comparison)\n",
    "\n",
    "# Comparative analysis by semester\n",
    "semester_comparison = df.groupby('SEMESTER').agg({'SGPA': 'mean', 'CGPA': 'mean'}).reset_index()\n",
    "print(\"\\nComparative Analysis by Semester:\")\n",
    "print(semester_comparison)\n"
   ]
  },
  {
   "cell_type": "code",
   "execution_count": null,
   "metadata": {},
   "outputs": [],
   "source": [
    "sdfg"
   ]
  }
 ],
 "metadata": {
  "kernelspec": {
   "display_name": "srsenv",
   "language": "python",
   "name": "python3"
  },
  "language_info": {
   "codemirror_mode": {
    "name": "ipython",
    "version": 3
   },
   "file_extension": ".py",
   "mimetype": "text/x-python",
   "name": "python",
   "nbconvert_exporter": "python",
   "pygments_lexer": "ipython3",
   "version": "3.9.0"
  }
 },
 "nbformat": 4,
 "nbformat_minor": 2
}
